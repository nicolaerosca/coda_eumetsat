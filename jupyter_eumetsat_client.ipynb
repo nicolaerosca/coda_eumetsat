{
 "cells": [
  {
   "cell_type": "code",
   "execution_count": 1,
   "metadata": {
    "collapsed": false
   },
   "outputs": [],
   "source": [
    "import eumetsat\n",
    "import getpass\n",
    "\n",
    "user='hackathon04'\n",
    "pw = 'copernicus'\n",
    "client = eumetsat.EumetsatDataClient(user=user,password=pw)"
   ]
  },
  {
   "cell_type": "code",
   "execution_count": 2,
   "metadata": {
    "collapsed": false
   },
   "outputs": [
    {
     "name": "stdout",
     "output_type": "stream",
     "text": [
      "Query EUMETSAT....\n",
      "( footprint:\"Intersects(POLYGON((3.0 51.0,5.0 51.0,5.0 52.0,3.0 51.0)))\" ) AND ( beginPosition:[2016-06-01T00:00:00.000Z TO 2017-06-29T23:59:59.999Z] AND endPosition:[2016-06-01T00:00:00.000Z TO 2017-06-29T23:59:59.999Z])\n",
      "Result size:1387\n"
     ]
    }
   ],
   "source": [
    "products = client.query(polygon=[[3.0,51.0],[5.0,51.0],[5.0,52.0],[3.0,51.0]],start_date_str='2016-06-01T00:00:00.000Z',end_date_str='2017-06-29T23:59:59.999Z')"
   ]
  },
  {
   "cell_type": "code",
   "execution_count": 4,
   "metadata": {
    "collapsed": false
   },
   "outputs": [
    {
     "name": "stdout",
     "output_type": "stream",
     "text": [
      "{'name': 'S3A_SL_1_RBT____20170124T100137_20170124T100437_20170125T174705_0180_013_293_2159_MAR_O_NT_002.SEN3', 'summary': 'Date: 2017-01-24T10:01:37.136Z, Instrument: SLSTR, Mode: , Satellite: Sentinel-3, Size: 556.47 MB', 'id': '54d7089d-3053-4cd7-afa9-0839ad62277c'}\n",
      "https://coda.eumetsat.int//odata/v1/Products('5ccb3aa2-b835-48fb-9053-304bc4526d28')/Nodes('S3A_SL_1_RBT____20170128T095752_20170128T100052_20170128T120900_0179_013_350_2159_MAR_O_NR_002.SEN3')/Nodes\n"
     ]
    },
    {
     "data": {
      "text/plain": [
       "[{'title': 'F1_BT_in.nc'},\n",
       " {'title': 'F1_BT_io.nc'},\n",
       " {'title': 'F1_quality_in.nc'},\n",
       " {'title': 'F1_quality_io.nc'},\n",
       " {'title': 'F2_BT_in.nc'},\n",
       " {'title': 'F2_BT_io.nc'},\n",
       " {'title': 'F2_quality_in.nc'},\n",
       " {'title': 'F2_quality_io.nc'},\n",
       " {'title': 'S1_quality_an.nc'},\n",
       " {'title': 'S1_quality_ao.nc'},\n",
       " {'title': 'S1_radiance_an.nc'},\n",
       " {'title': 'S1_radiance_ao.nc'},\n",
       " {'title': 'S2_quality_an.nc'},\n",
       " {'title': 'S2_quality_ao.nc'},\n",
       " {'title': 'S2_radiance_an.nc'},\n",
       " {'title': 'S2_radiance_ao.nc'},\n",
       " {'title': 'S3_quality_an.nc'},\n",
       " {'title': 'S3_quality_ao.nc'},\n",
       " {'title': 'S3_radiance_an.nc'},\n",
       " {'title': 'S3_radiance_ao.nc'},\n",
       " {'title': 'S4_quality_an.nc'},\n",
       " {'title': 'S4_quality_ao.nc'},\n",
       " {'title': 'S4_quality_bn.nc'},\n",
       " {'title': 'S4_quality_bo.nc'},\n",
       " {'title': 'S4_quality_cn.nc'},\n",
       " {'title': 'S4_quality_co.nc'},\n",
       " {'title': 'S4_radiance_an.nc'},\n",
       " {'title': 'S4_radiance_ao.nc'},\n",
       " {'title': 'S4_radiance_bn.nc'},\n",
       " {'title': 'S4_radiance_bo.nc'},\n",
       " {'title': 'S4_radiance_cn.nc'},\n",
       " {'title': 'S4_radiance_co.nc'},\n",
       " {'title': 'S5_quality_an.nc'},\n",
       " {'title': 'S5_quality_ao.nc'},\n",
       " {'title': 'S5_quality_bn.nc'},\n",
       " {'title': 'S5_quality_bo.nc'},\n",
       " {'title': 'S5_quality_cn.nc'},\n",
       " {'title': 'S5_quality_co.nc'},\n",
       " {'title': 'S5_radiance_an.nc'},\n",
       " {'title': 'S5_radiance_ao.nc'},\n",
       " {'title': 'S5_radiance_bn.nc'},\n",
       " {'title': 'S5_radiance_bo.nc'},\n",
       " {'title': 'S5_radiance_cn.nc'},\n",
       " {'title': 'S5_radiance_co.nc'},\n",
       " {'title': 'S6_quality_an.nc'},\n",
       " {'title': 'S6_quality_ao.nc'},\n",
       " {'title': 'S6_quality_bn.nc'},\n",
       " {'title': 'S6_quality_bo.nc'},\n",
       " {'title': 'S6_quality_cn.nc'},\n",
       " {'title': 'S6_quality_co.nc'}]"
      ]
     },
     "execution_count": 4,
     "metadata": {},
     "output_type": "execute_result"
    }
   ],
   "source": [
    "print(products[1])\n",
    "client.check_product_content(products[3])"
   ]
  },
  {
   "cell_type": "code",
   "execution_count": 6,
   "metadata": {
    "collapsed": false
   },
   "outputs": [
    {
     "name": "stdout",
     "output_type": "stream",
     "text": [
      "[{'name': 'S3A_SL_1_RBT____20170128T095452_20170128T095752_20170128T120836_0179_013_350_1979_MAR_O_NR_002.SEN3', 'summary': 'Date: 2017-01-28T09:54:52.72Z, Instrument: SLSTR, Mode: , Satellite: Sentinel-3, Size: 535.13 MB', 'id': 'e2cedf33-8d03-420f-ac95-1009bb7b9a91', 'cdf_file': 'S5_radiance_an.nc'}]\n",
      "https://coda.eumetsat.int//odata/v1/Products('e2cedf33-8d03-420f-ac95-1009bb7b9a91')/Nodes('S3A_SL_1_RBT____20170128T095452_20170128T095752_20170128T120836_0179_013_350_1979_MAR_O_NR_002.SEN3')/Nodes\n",
      "Found 50 files\n",
      "donwloading file: S3A_SL_1_RBT____20170128T095452_20170128T095752_20170128T120836_0179_013_350_1979_MAR_O_NR_002.SEN3/S1_radiance_an.nc\n",
      "https://coda.eumetsat.int/odata/v1/Products('e2cedf33-8d03-420f-ac95-1009bb7b9a91')/Nodes('S3A_SL_1_RBT____20170128T095452_20170128T095752_20170128T120836_0179_013_350_1979_MAR_O_NR_002.SEN3')/Nodes('S1_radiance_an.nc')/$value\n",
      "Fille already downloaded.\n",
      "donwloading file: S3A_SL_1_RBT____20170128T095452_20170128T095752_20170128T120836_0179_013_350_1979_MAR_O_NR_002.SEN3/S2_radiance_an.nc\n",
      "https://coda.eumetsat.int/odata/v1/Products('e2cedf33-8d03-420f-ac95-1009bb7b9a91')/Nodes('S3A_SL_1_RBT____20170128T095452_20170128T095752_20170128T120836_0179_013_350_1979_MAR_O_NR_002.SEN3')/Nodes('S2_radiance_an.nc')/$value\n",
      "Fille already downloaded.\n",
      "donwloading file: S3A_SL_1_RBT____20170128T095452_20170128T095752_20170128T120836_0179_013_350_1979_MAR_O_NR_002.SEN3/S3_radiance_an.nc\n",
      "https://coda.eumetsat.int/odata/v1/Products('e2cedf33-8d03-420f-ac95-1009bb7b9a91')/Nodes('S3A_SL_1_RBT____20170128T095452_20170128T095752_20170128T120836_0179_013_350_1979_MAR_O_NR_002.SEN3')/Nodes('S3_radiance_an.nc')/$value\n",
      "Fille already downloaded.\n",
      "donwloading file: S3A_SL_1_RBT____20170128T095452_20170128T095752_20170128T120836_0179_013_350_1979_MAR_O_NR_002.SEN3/S4_radiance_an.nc\n",
      "https://coda.eumetsat.int/odata/v1/Products('e2cedf33-8d03-420f-ac95-1009bb7b9a91')/Nodes('S3A_SL_1_RBT____20170128T095452_20170128T095752_20170128T120836_0179_013_350_1979_MAR_O_NR_002.SEN3')/Nodes('S4_radiance_an.nc')/$value\n",
      "Fille already downloaded.\n",
      "donwloading file: S3A_SL_1_RBT____20170128T095452_20170128T095752_20170128T120836_0179_013_350_1979_MAR_O_NR_002.SEN3/S5_radiance_an.nc\n",
      "https://coda.eumetsat.int/odata/v1/Products('e2cedf33-8d03-420f-ac95-1009bb7b9a91')/Nodes('S3A_SL_1_RBT____20170128T095452_20170128T095752_20170128T120836_0179_013_350_1979_MAR_O_NR_002.SEN3')/Nodes('S5_radiance_an.nc')/$value\n",
      "Fille already downloaded.\n"
     ]
    }
   ],
   "source": [
    "print(products[2:3])\n",
    "client.download_products(files=products[2:3], product_entry='radiance_an')"
   ]
  }
 ],
 "metadata": {
  "kernelspec": {
   "display_name": "Python 3",
   "language": "python",
   "name": "python3"
  },
  "language_info": {
   "codemirror_mode": {
    "name": "ipython",
    "version": 3
   },
   "file_extension": ".py",
   "mimetype": "text/x-python",
   "name": "python",
   "nbconvert_exporter": "python",
   "pygments_lexer": "ipython3",
   "version": "3.6.0"
  }
 },
 "nbformat": 4,
 "nbformat_minor": 2
}
