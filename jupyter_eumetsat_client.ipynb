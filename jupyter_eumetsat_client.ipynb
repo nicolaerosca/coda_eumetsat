{
 "cells": [
  {
   "cell_type": "code",
   "execution_count": 2,
   "metadata": {
    "collapsed": false
   },
   "outputs": [],
   "source": [
    "import eumetsat\n",
    "import getpass\n",
    "\n",
    "user='hackathon04'\n",
    "pw = getpass.getpass()\n",
    "client = eumetsat.CodaDataClient(user=user,password=pw, debug=True)"
   ]
  },
  {
   "cell_type": "code",
   "execution_count": 3,
   "metadata": {
    "collapsed": false
   },
   "outputs": [
    {
     "name": "stdout",
     "output_type": "stream",
     "text": [
      "https://coda.eumetsat.int/search?format=json&orderby=creationdate asc&start=0&rows=100&q=(footprint:\"Intersects(3.0,51.0)\" ) AND ( beginPosition:[2017-06-01T00:00:00.000Z TO 2017-06-29T23:59:59.999Z] AND endPosition:[2017-06-01T00:00:00.000Z TO 2017-06-29T23:59:59.999Z] AND instrumentshortname:OLCI)\n",
      "Query EUMETSAT....\n",
      "(footprint:\"Intersects(3.0,51.0)\" ) AND ( beginPosition:[2017-06-01T00:00:00.000Z TO 2017-06-29T23:59:59.999Z] AND endPosition:[2017-06-01T00:00:00.000Z TO 2017-06-29T23:59:59.999Z] AND instrumentshortname:OLCI)\n",
      "Result size:16\n"
     ]
    },
    {
     "data": {
      "text/plain": [
       "[{'id': '6f2aeacf-a6c9-426d-b0fc-42eac4f04cf7',\n",
       "  'name': 'S3A_OL_1_EFR____20170601T063259_20170601T063559_20170601T085440_0179_018_191_2879_MAR_O_NR_002.SEN3',\n",
       "  'summary': 'Date: 2017-06-01T06:32:58.824Z, Instrument: OLCI, Mode: , Satellite: Sentinel-3, Size: 603.32 MB'},\n",
       " {'id': '3ab8eb19-6d23-4866-8fde-66ccc7f332e9',\n",
       "  'name': 'S3A_OL_1_EFR____20170602T060648_20170602T060948_20170602T082347_0180_018_205_2879_MAR_O_NR_002.SEN3',\n",
       "  'summary': 'Date: 2017-06-02T06:06:47.916Z, Instrument: OLCI, Mode: , Satellite: Sentinel-3, Size: 607.41 MB'},\n",
       " {'id': 'bdd259c4-0a81-4184-9701-319be9e463e0',\n",
       "  'name': 'S3A_OL_1_ERR____20170602T053904_20170602T062330_20170602T082807_2666_018_205______MAR_O_NR_002.SEN3',\n",
       "  'summary': 'Date: 2017-06-02T05:39:03.847Z, Instrument: OLCI, Mode: , Satellite: Sentinel-3, Size: 694.24 MB'},\n",
       " {'id': 'e79fd2d7-ce5d-413b-a586-febfc2aad0d7',\n",
       "  'name': 'S3A_OL_1_EFR____20170601T063259_20170601T063559_20170602T114511_0179_018_191_2879_MAR_O_NT_002.SEN3',\n",
       "  'summary': 'Date: 2017-06-01T06:32:58.824Z, Instrument: OLCI, Mode: , Satellite: Sentinel-3, Size: 604.08 MB'},\n",
       " {'id': '9429de5d-21ed-430d-831c-f4863cc98715',\n",
       "  'name': 'S3A_OL_1_ERR____20170602T053904_20170602T062330_20170603T112803_2666_018_205______MAR_O_NT_002.SEN3',\n",
       "  'summary': 'Date: 2017-06-02T05:39:03.869Z, Instrument: OLCI, Mode: , Satellite: Sentinel-3, Size: 692.68 MB'},\n",
       " {'id': 'a3933099-665e-4848-854f-535a8c0e6281',\n",
       "  'name': 'S3A_OL_1_EFR____20170602T060648_20170602T060948_20170603T113403_0180_018_205_2879_MAR_O_NT_002.SEN3',\n",
       "  'summary': 'Date: 2017-06-02T06:06:47.916Z, Instrument: OLCI, Mode: , Satellite: Sentinel-3, Size: 608.20 MB'},\n",
       " {'id': 'f1162850-c494-4a13-b7b0-949d54729288',\n",
       "  'name': 'S3A_OL_1_EFR____20170605T062914_20170605T063214_20170605T084850_0179_018_248_2879_MAR_O_NR_002.SEN3',\n",
       "  'summary': 'Date: 2017-06-05T06:29:14.413Z, Instrument: OLCI, Mode: , Satellite: Sentinel-3, Size: 584.26 MB'},\n",
       " {'id': '5520e289-f7a6-4a19-9f41-bea6bdf19204',\n",
       "  'name': 'S3A_OL_1_ERR____20170605T060124_20170605T064550_20170605T085125_2666_018_248______MAR_O_NR_002.SEN3',\n",
       "  'summary': 'Date: 2017-06-05T06:01:23.812Z, Instrument: OLCI, Mode: , Satellite: Sentinel-3, Size: 694.11 MB'},\n",
       " {'id': '67f4e08d-1fc0-4764-8d48-00ecc6ebd5ea',\n",
       "  'name': 'S3A_OL_1_EFR____20170606T060304_20170606T060604_20170606T082232_0179_018_262_2879_MAR_O_NR_002.SEN3',\n",
       "  'summary': 'Date: 2017-06-06T06:03:03.505Z, Instrument: OLCI, Mode: , Satellite: Sentinel-3, Size: 569.89 MB'},\n",
       " {'id': '667f8ef6-155f-47af-a385-0c98a40f553a',\n",
       "  'name': 'S3A_OL_1_ERR____20170606T053511_20170606T061937_20170606T082625_2666_018_262______MAR_O_NR_002.SEN3',\n",
       "  'summary': 'Date: 2017-06-06T05:35:10.897Z, Instrument: OLCI, Mode: , Satellite: Sentinel-3, Size: 700.63 MB'},\n",
       " {'id': 'ec7a6105-3048-4d28-8cde-c0e78b4c4daf',\n",
       "  'name': 'S3A_OL_1_ERR____20170605T060124_20170605T064550_20170606T103045_2666_018_248______MAR_O_NT_002.SEN3',\n",
       "  'summary': 'Date: 2017-06-05T06:01:23.833Z, Instrument: OLCI, Mode: , Satellite: Sentinel-3, Size: 693.84 MB'},\n",
       " {'id': 'd45938e4-7a84-4bdc-a547-ef6b8d34a3e8',\n",
       "  'name': 'S3A_OL_1_EFR____20170605T062914_20170605T063214_20170606T103640_0179_018_248_2879_MAR_O_NT_002.SEN3',\n",
       "  'summary': 'Date: 2017-06-05T06:29:14.413Z, Instrument: OLCI, Mode: , Satellite: Sentinel-3, Size: 585.05 MB'},\n",
       " {'id': 'ba3693cc-6199-4296-ac2c-78405f8faa7d',\n",
       "  'name': 'S3A_OL_1_ERR____20170606T053511_20170606T061937_20170607T113808_2666_018_262______MAR_O_NT_002.SEN3',\n",
       "  'summary': 'Date: 2017-06-06T05:35:10.918Z, Instrument: OLCI, Mode: , Satellite: Sentinel-3, Size: 698.80 MB'},\n",
       " {'id': '857f3690-38eb-4c43-b332-0f286a52b445',\n",
       "  'name': 'S3A_OL_1_EFR____20170606T060304_20170606T060604_20170607T114420_0179_018_262_2879_MAR_O_NT_002.SEN3',\n",
       "  'summary': 'Date: 2017-06-06T06:03:03.505Z, Instrument: OLCI, Mode: , Satellite: Sentinel-3, Size: 570.59 MB'},\n",
       " {'id': 'b627f407-05ea-4709-a6b9-26f147d29eb5',\n",
       "  'name': 'S3A_OL_1_EFR____20170609T062530_20170609T062830_20170609T083721_0179_018_305_2879_MAR_O_NR_002.SEN3',\n",
       "  'summary': 'Date: 2017-06-09T06:25:30.001Z, Instrument: OLCI, Mode: , Satellite: Sentinel-3, Size: 570.56 MB'},\n",
       " {'id': 'e004806a-2fba-409a-87ed-b762cec509d6',\n",
       "  'name': 'S3A_OL_1_EFR____20170609T062530_20170609T062830_20170610T113519_0179_018_305_2879_MAR_O_NT_002.SEN3',\n",
       "  'summary': 'Date: 2017-06-09T06:25:30.001Z, Instrument: OLCI, Mode: , Satellite: Sentinel-3, Size: 571.43 MB'}]"
      ]
     },
     "execution_count": 3,
     "metadata": {},
     "output_type": "execute_result"
    }
   ],
   "source": [
    "#products = client.query(polygon=[[3.0,51.0],[5.0,51.0],[5.0,52.0],[3.0,51.0]],start_date_str='2017-06-01T00:00:00.000Z',end_date_str='2017-06-29T23:59:59.999Z', instrument='OLCI')\n",
    "#products = client.query(polygon=[[3.0,51.0],[5.0,51.0],[5.0,52.0],[3.0,51.0]],start_date_str='2017-06-01T00:00:00.000Z',end_date_str='2017-06-29T23:59:59.999Z', instrument='OLCI')\n",
    "products = client.query(polygon=[[3.0,51.0]],start_date_str='2017-06-01T00:00:00.000Z',end_date_str='2017-06-29T23:59:59.999Z', instrument='OLCI')\n",
    "\n",
    "products"
   ]
  },
  {
   "cell_type": "code",
   "execution_count": 3,
   "metadata": {
    "collapsed": false
   },
   "outputs": [
    {
     "name": "stdout",
     "output_type": "stream",
     "text": [
      "{'name': 'S3A_OL_1_EFR____20170602T060648_20170602T060948_20170602T082347_0180_018_205_2879_MAR_O_NR_002.SEN3', 'summary': 'Date: 2017-06-02T06:06:47.916Z, Instrument: OLCI, Mode: , Satellite: Sentinel-3, Size: 607.41 MB', 'id': '3ab8eb19-6d23-4866-8fde-66ccc7f332e9'}\n",
      "https://coda.eumetsat.int//odata/v1/Products('9429de5d-21ed-430d-831c-f4863cc98715')/Nodes('S3A_OL_1_ERR____20170602T053904_20170602T062330_20170603T112803_2666_018_205______MAR_O_NT_002.SEN3')/Nodes\n"
     ]
    },
    {
     "data": {
      "text/plain": [
       "[{'title': 'Oa01_radiance.nc', 'updated': '2017-06-11T13:17:19.949Z'},\n",
       " {'title': 'Oa02_radiance.nc', 'updated': '2017-06-11T13:17:19.949Z'},\n",
       " {'title': 'Oa03_radiance.nc', 'updated': '2017-06-11T13:17:19.949Z'},\n",
       " {'title': 'Oa04_radiance.nc', 'updated': '2017-06-11T13:17:19.949Z'},\n",
       " {'title': 'Oa05_radiance.nc', 'updated': '2017-06-11T13:17:19.949Z'},\n",
       " {'title': 'Oa06_radiance.nc', 'updated': '2017-06-11T13:17:19.949Z'},\n",
       " {'title': 'Oa07_radiance.nc', 'updated': '2017-06-11T13:17:19.949Z'},\n",
       " {'title': 'Oa08_radiance.nc', 'updated': '2017-06-11T13:17:19.949Z'},\n",
       " {'title': 'Oa09_radiance.nc', 'updated': '2017-06-11T13:17:19.949Z'},\n",
       " {'title': 'Oa10_radiance.nc', 'updated': '2017-06-11T13:17:19.949Z'},\n",
       " {'title': 'Oa11_radiance.nc', 'updated': '2017-06-11T13:17:19.949Z'},\n",
       " {'title': 'Oa12_radiance.nc', 'updated': '2017-06-11T13:17:19.949Z'},\n",
       " {'title': 'Oa13_radiance.nc', 'updated': '2017-06-11T13:17:19.949Z'},\n",
       " {'title': 'Oa14_radiance.nc', 'updated': '2017-06-11T13:17:19.949Z'},\n",
       " {'title': 'Oa15_radiance.nc', 'updated': '2017-06-11T13:17:19.949Z'},\n",
       " {'title': 'Oa16_radiance.nc', 'updated': '2017-06-11T13:17:19.949Z'},\n",
       " {'title': 'Oa17_radiance.nc', 'updated': '2017-06-11T13:17:19.949Z'},\n",
       " {'title': 'Oa18_radiance.nc', 'updated': '2017-06-11T13:17:19.949Z'},\n",
       " {'title': 'Oa19_radiance.nc', 'updated': '2017-06-11T13:17:19.949Z'},\n",
       " {'title': 'Oa20_radiance.nc', 'updated': '2017-06-11T13:17:19.949Z'},\n",
       " {'title': 'Oa21_radiance.nc', 'updated': '2017-06-11T13:17:19.949Z'},\n",
       " {'title': 'geo_coordinates.nc', 'updated': '2017-06-11T13:17:19.949Z'},\n",
       " {'title': 'instrument_data.nc', 'updated': '2017-06-11T13:17:19.949Z'},\n",
       " {'title': 'qualityFlags.nc', 'updated': '2017-06-11T13:17:19.949Z'},\n",
       " {'title': 'tie_geo_coordinates.nc', 'updated': '2017-06-11T13:17:19.949Z'},\n",
       " {'title': 'tie_geometries.nc', 'updated': '2017-06-11T13:17:19.95Z'},\n",
       " {'title': 'tie_meteo.nc', 'updated': '2017-06-11T13:17:19.95Z'},\n",
       " {'title': 'time_coordinates.nc', 'updated': '2017-06-11T13:17:19.95Z'},\n",
       " {'title': 'xfdumanifest.xml', 'updated': '2017-06-11T13:17:19.95Z'}]"
      ]
     },
     "execution_count": 3,
     "metadata": {},
     "output_type": "execute_result"
    }
   ],
   "source": [
    "print(products[1])\n",
    "client.check_product_content(products[4])"
   ]
  },
  {
   "cell_type": "code",
   "execution_count": 4,
   "metadata": {
    "collapsed": false
   },
   "outputs": [
    {
     "name": "stdout",
     "output_type": "stream",
     "text": [
      "[{'name': 'S3A_SL_1_RBT____20170601T210552_20170601T210852_20170601T235000_0179_018_200_0719_MAR_O_NR_002.SEN3', 'summary': 'Date: 2017-06-01T21:05:52.191Z, Instrument: SLSTR, Mode: , Satellite: Sentinel-3, Size: 515.32 MB', 'id': '4acbbc18-e428-4ddc-9480-dc3ceecd8c09'}]\n",
      "Found 50 files for product\n"
     ]
    }
   ],
   "source": [
    "print(products[2:3])\n",
    "client.download_products(files=products[2:3], product_entry='radiance_an')"
   ]
  }
 ],
 "metadata": {
  "kernelspec": {
   "display_name": "Python 3",
   "language": "python",
   "name": "python3"
  },
  "language_info": {
   "codemirror_mode": {
    "name": "ipython",
    "version": 3
   },
   "file_extension": ".py",
   "mimetype": "text/x-python",
   "name": "python",
   "nbconvert_exporter": "python",
   "pygments_lexer": "ipython3",
   "version": "3.6.0"
  }
 },
 "nbformat": 4,
 "nbformat_minor": 2
}
